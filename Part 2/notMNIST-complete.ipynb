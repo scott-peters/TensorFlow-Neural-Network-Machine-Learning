{
  "cells": [
    {
      "cell_type": "markdown",
      "id": "86336486-6935-4bf6-9c5b-b2c964a61e87",
      "metadata": {
        "id": "86336486-6935-4bf6-9c5b-b2c964a61e87"
      },
      "source": [
        "#Original Author: Jonathan Hudson\n",
        "#CPSC 501 F22"
      ]
    },
    {
      "cell_type": "code",
      "execution_count": 2,
      "id": "7b9bfed6-8429-453f-8f39-dce64688aaaa",
      "metadata": {
        "colab": {
          "base_uri": "https://localhost:8080/"
        },
        "id": "7b9bfed6-8429-453f-8f39-dce64688aaaa",
        "outputId": "166da6d4-333b-4106-ae42-b1c5ce29f62c"
      },
      "outputs": [
        {
          "output_type": "stream",
          "name": "stdout",
          "text": [
            "--Get data--\n",
            "--Process data--\n"
          ]
        }
      ],
      "source": [
        "import tensorflow as tf\n",
        "import numpy as np\n",
        "\n",
        "tf.random.set_seed(1234)\n",
        "\n",
        "print(\"--Get data--\")\n",
        "with np.load(\"notMNIST.npz\", allow_pickle=True) as f:\n",
        "    x_train, y_train = f['x_train'], f['y_train']\n",
        "    x_test, y_test = f['x_test'], f['y_test']\n",
        "\n",
        "print(\"--Process data--\")\n",
        "x_train, x_test = x_train / 255.0, x_test / 255.0\n",
        "\n",
        "x_train = np.expand_dims(x_train, -1)\n",
        "x_test = np.expand_dims(x_test, -1)\n",
        "input_shape = (28, 28, 1)"
      ]
    },
    {
      "cell_type": "code",
      "execution_count": 58,
      "id": "e66f3a9a-202c-4734-82fc-e2fb378979ae",
      "metadata": {
        "colab": {
          "base_uri": "https://localhost:8080/"
        },
        "id": "e66f3a9a-202c-4734-82fc-e2fb378979ae",
        "outputId": "784e7ca6-5ab1-4ff4-ae8d-172d0369c14c"
      },
      "outputs": [
        {
          "output_type": "stream",
          "name": "stdout",
          "text": [
            "--Make model--\n",
            "--Fit model--\n",
            "Epoch 1/25\n",
            "1200/1200 - 9s - loss: 0.6693 - accuracy: 0.8047 - 9s/epoch - 8ms/step\n",
            "Epoch 2/25\n",
            "1200/1200 - 8s - loss: 0.5304 - accuracy: 0.8421 - 8s/epoch - 7ms/step\n",
            "Epoch 3/25\n",
            "1200/1200 - 10s - loss: 0.4840 - accuracy: 0.8530 - 10s/epoch - 8ms/step\n",
            "Epoch 4/25\n",
            "1200/1200 - 8s - loss: 0.4487 - accuracy: 0.8620 - 8s/epoch - 7ms/step\n",
            "Epoch 5/25\n",
            "1200/1200 - 9s - loss: 0.4262 - accuracy: 0.8687 - 9s/epoch - 7ms/step\n",
            "Epoch 6/25\n",
            "1200/1200 - 9s - loss: 0.4037 - accuracy: 0.8745 - 9s/epoch - 7ms/step\n",
            "Epoch 7/25\n",
            "1200/1200 - 8s - loss: 0.3913 - accuracy: 0.8781 - 8s/epoch - 7ms/step\n",
            "Epoch 8/25\n",
            "1200/1200 - 10s - loss: 0.3727 - accuracy: 0.8839 - 10s/epoch - 8ms/step\n",
            "Epoch 9/25\n",
            "1200/1200 - 8s - loss: 0.3637 - accuracy: 0.8856 - 8s/epoch - 7ms/step\n",
            "Epoch 10/25\n",
            "1200/1200 - 8s - loss: 0.3485 - accuracy: 0.8903 - 8s/epoch - 7ms/step\n",
            "Epoch 11/25\n",
            "1200/1200 - 8s - loss: 0.3363 - accuracy: 0.8941 - 8s/epoch - 7ms/step\n",
            "Epoch 12/25\n",
            "1200/1200 - 9s - loss: 0.3302 - accuracy: 0.8952 - 9s/epoch - 8ms/step\n",
            "Epoch 13/25\n",
            "1200/1200 - 8s - loss: 0.3228 - accuracy: 0.8980 - 8s/epoch - 7ms/step\n",
            "Epoch 14/25\n",
            "1200/1200 - 8s - loss: 0.3135 - accuracy: 0.9008 - 8s/epoch - 7ms/step\n",
            "Epoch 15/25\n",
            "1200/1200 - 9s - loss: 0.3026 - accuracy: 0.9026 - 9s/epoch - 7ms/step\n",
            "Epoch 16/25\n",
            "1200/1200 - 9s - loss: 0.2989 - accuracy: 0.9038 - 9s/epoch - 7ms/step\n",
            "Epoch 17/25\n",
            "1200/1200 - 9s - loss: 0.2924 - accuracy: 0.9082 - 9s/epoch - 8ms/step\n",
            "Epoch 18/25\n",
            "1200/1200 - 9s - loss: 0.2830 - accuracy: 0.9092 - 9s/epoch - 7ms/step\n",
            "Epoch 19/25\n",
            "1200/1200 - 8s - loss: 0.2788 - accuracy: 0.9093 - 8s/epoch - 7ms/step\n",
            "Epoch 20/25\n",
            "1200/1200 - 9s - loss: 0.2680 - accuracy: 0.9123 - 9s/epoch - 7ms/step\n",
            "Epoch 21/25\n",
            "1200/1200 - 10s - loss: 0.2683 - accuracy: 0.9133 - 10s/epoch - 8ms/step\n",
            "Epoch 22/25\n",
            "1200/1200 - 9s - loss: 0.2622 - accuracy: 0.9146 - 9s/epoch - 7ms/step\n",
            "Epoch 23/25\n",
            "1200/1200 - 9s - loss: 0.2589 - accuracy: 0.9170 - 9s/epoch - 7ms/step\n",
            "Epoch 24/25\n",
            "1200/1200 - 9s - loss: 0.2511 - accuracy: 0.9191 - 9s/epoch - 7ms/step\n",
            "Epoch 25/25\n",
            "1200/1200 - 10s - loss: 0.2511 - accuracy: 0.9186 - 10s/epoch - 8ms/step\n"
          ]
        },
        {
          "output_type": "execute_result",
          "data": {
            "text/plain": [
              "<keras.callbacks.History at 0x7fd482c4d590>"
            ]
          },
          "metadata": {},
          "execution_count": 58
        }
      ],
      "source": [
        "print(\"--Make model--\")\n",
        "model = tf.keras.models.Sequential([\n",
        "  tf.keras.layers.Flatten(input_shape=(28, 28, 1)),\n",
        "  tf.keras.layers.Dense(512, activation='relu'),\n",
        "  tf.keras.layers.Dropout(0.2),\n",
        "  tf.keras.layers.Dense(256, activation='relu'),\n",
        "  tf.keras.layers.Dropout(0.2),\n",
        "  tf.keras.layers.Dense(10, activation='softmax')\n",
        "])\n",
        "\n",
        "initial_learning_rate = 1e-2\n",
        "lr_schedule = tf.keras.optimizers.schedules.ExponentialDecay(\n",
        "  initial_learning_rate, decay_steps=100000, decay_rate=0.9, staircase=True)\n",
        "\n",
        "optimizer = tf.keras.optimizers.Adamax(learning_rate=lr_schedule)\n",
        "\n",
        "model.compile(optimizer=optimizer, loss='sparse_categorical_crossentropy', metrics=['accuracy'])\n",
        "\n",
        "print(\"--Fit model--\")\n",
        "model.fit(x_train, y_train, epochs=25, verbose=2, batch_size = 50)"
      ]
    },
    {
      "cell_type": "code",
      "execution_count": 59,
      "id": "d1e873e6-956a-4471-a9b2-61e9421aab01",
      "metadata": {
        "colab": {
          "base_uri": "https://localhost:8080/"
        },
        "id": "d1e873e6-956a-4471-a9b2-61e9421aab01",
        "outputId": "4582bee6-9d76-479a-d5d6-6baee9d878c7"
      },
      "outputs": [
        {
          "output_type": "stream",
          "name": "stdout",
          "text": [
            "--Evaluate model--\n",
            "1875/1875 - 5s - loss: 0.1734 - accuracy: 0.9470 - 5s/epoch - 3ms/step\n",
            "313/313 - 1s - loss: 0.2252 - accuracy: 0.9397 - 974ms/epoch - 3ms/step\n",
            "Train / Test Accuracy: 94.7% / 94.0%\n"
          ]
        }
      ],
      "source": [
        "print(\"--Evaluate model--\")\n",
        "model_loss1, model_acc1 = model.evaluate(x_train,  y_train, verbose=2)\n",
        "model_loss2, model_acc2 = model.evaluate(x_test,  y_test, verbose=2)\n",
        "print(f\"Train / Test Accuracy: {model_acc1*100:.1f}% / {model_acc2*100:.1f}%\")"
      ]
    },
    {
      "cell_type": "code",
      "source": [
        "model.save('notMNIST.h5')"
      ],
      "metadata": {
        "id": "76aHY_GvCtrj"
      },
      "id": "76aHY_GvCtrj",
      "execution_count": 60,
      "outputs": []
    }
  ],
  "metadata": {
    "kernelspec": {
      "display_name": "Python 3 (ipykernel)",
      "language": "python",
      "name": "python3"
    },
    "language_info": {
      "codemirror_mode": {
        "name": "ipython",
        "version": 3
      },
      "file_extension": ".py",
      "mimetype": "text/x-python",
      "name": "python",
      "nbconvert_exporter": "python",
      "pygments_lexer": "ipython3",
      "version": "3.9.7"
    },
    "colab": {
      "provenance": [],
      "collapsed_sections": []
    }
  },
  "nbformat": 4,
  "nbformat_minor": 5
}