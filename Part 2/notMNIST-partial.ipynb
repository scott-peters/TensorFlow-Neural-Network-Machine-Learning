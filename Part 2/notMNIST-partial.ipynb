{
  "cells": [
    {
      "cell_type": "markdown",
      "id": "86336486-6935-4bf6-9c5b-b2c964a61e87",
      "metadata": {
        "id": "86336486-6935-4bf6-9c5b-b2c964a61e87"
      },
      "source": [
        "#Original Author: Jonathan Hudson\n",
        "#CPSC 501 F22"
      ]
    },
    {
      "cell_type": "code",
      "execution_count": 2,
      "id": "7b9bfed6-8429-453f-8f39-dce64688aaaa",
      "metadata": {
        "colab": {
          "base_uri": "https://localhost:8080/"
        },
        "id": "7b9bfed6-8429-453f-8f39-dce64688aaaa",
        "outputId": "166da6d4-333b-4106-ae42-b1c5ce29f62c"
      },
      "outputs": [
        {
          "output_type": "stream",
          "name": "stdout",
          "text": [
            "--Get data--\n",
            "--Process data--\n"
          ]
        }
      ],
      "source": [
        "import tensorflow as tf\n",
        "import numpy as np\n",
        "\n",
        "tf.random.set_seed(1234)\n",
        "\n",
        "print(\"--Get data--\")\n",
        "with np.load(\"notMNIST.npz\", allow_pickle=True) as f:\n",
        "    x_train, y_train = f['x_train'], f['y_train']\n",
        "    x_test, y_test = f['x_test'], f['y_test']\n",
        "\n",
        "print(\"--Process data--\")\n",
        "x_train, x_test = x_train / 255.0, x_test / 255.0\n",
        "\n",
        "x_train = np.expand_dims(x_train, -1)\n",
        "x_test = np.expand_dims(x_test, -1)\n",
        "input_shape = (28, 28, 1)"
      ]
    },
    {
      "cell_type": "code",
      "execution_count": 9,
      "id": "e66f3a9a-202c-4734-82fc-e2fb378979ae",
      "metadata": {
        "colab": {
          "base_uri": "https://localhost:8080/"
        },
        "id": "e66f3a9a-202c-4734-82fc-e2fb378979ae",
        "outputId": "332fdca2-9f0b-47b7-c11b-a414ef43603b"
      },
      "outputs": [
        {
          "output_type": "stream",
          "name": "stdout",
          "text": [
            "--Make model--\n",
            "--Fit model--\n",
            "Epoch 1/15\n",
            "1875/1875 - 7s - loss: 0.6856 - accuracy: 0.8055 - 7s/epoch - 4ms/step\n",
            "Epoch 2/15\n",
            "1875/1875 - 5s - loss: 0.5990 - accuracy: 0.8266 - 5s/epoch - 3ms/step\n",
            "Epoch 3/15\n",
            "1875/1875 - 6s - loss: 0.5821 - accuracy: 0.8314 - 6s/epoch - 3ms/step\n",
            "Epoch 4/15\n",
            "1875/1875 - 5s - loss: 0.5717 - accuracy: 0.8354 - 5s/epoch - 3ms/step\n",
            "Epoch 5/15\n",
            "1875/1875 - 5s - loss: 0.5602 - accuracy: 0.8388 - 5s/epoch - 3ms/step\n",
            "Epoch 6/15\n",
            "1875/1875 - 5s - loss: 0.5488 - accuracy: 0.8414 - 5s/epoch - 3ms/step\n",
            "Epoch 7/15\n",
            "1875/1875 - 5s - loss: 0.5468 - accuracy: 0.8408 - 5s/epoch - 3ms/step\n",
            "Epoch 8/15\n",
            "1875/1875 - 6s - loss: 0.5397 - accuracy: 0.8431 - 6s/epoch - 3ms/step\n",
            "Epoch 9/15\n",
            "1875/1875 - 5s - loss: 0.5383 - accuracy: 0.8446 - 5s/epoch - 3ms/step\n",
            "Epoch 10/15\n",
            "1875/1875 - 5s - loss: 0.5242 - accuracy: 0.8474 - 5s/epoch - 3ms/step\n",
            "Epoch 11/15\n",
            "1875/1875 - 5s - loss: 0.5276 - accuracy: 0.8455 - 5s/epoch - 3ms/step\n",
            "Epoch 12/15\n",
            "1875/1875 - 5s - loss: 0.5177 - accuracy: 0.8483 - 5s/epoch - 3ms/step\n",
            "Epoch 13/15\n",
            "1875/1875 - 5s - loss: 0.5186 - accuracy: 0.8481 - 5s/epoch - 3ms/step\n",
            "Epoch 14/15\n",
            "1875/1875 - 5s - loss: 0.5157 - accuracy: 0.8502 - 5s/epoch - 3ms/step\n",
            "Epoch 15/15\n",
            "1875/1875 - 5s - loss: 0.5118 - accuracy: 0.8491 - 5s/epoch - 3ms/step\n"
          ]
        },
        {
          "output_type": "execute_result",
          "data": {
            "text/plain": [
              "<keras.callbacks.History at 0x7fd4a53dc510>"
            ]
          },
          "metadata": {},
          "execution_count": 9
        }
      ],
      "source": [
        "print(\"--Make model--\")\n",
        "model = tf.keras.models.Sequential([\n",
        "  tf.keras.layers.Flatten(input_shape=(28, 28, 1)),\n",
        "  tf.keras.layers.Dense(300, activation='relu'),\n",
        "  tf.keras.layers.Dense(10, activation='softmax')\n",
        "])\n",
        "\n",
        "initial_learning_rate = 1e-2\n",
        "lr_schedule = tf.keras.optimizers.schedules.ExponentialDecay(\n",
        "  initial_learning_rate, decay_steps=100000, decay_rate=0.9, staircase=True)\n",
        "\n",
        "optimizer = tf.keras.optimizers.Adam(learning_rate=lr_schedule)\n",
        "\n",
        "model.compile(optimizer=optimizer, loss='sparse_categorical_crossentropy', metrics=['accuracy'])\n",
        "\n",
        "print(\"--Fit model--\")\n",
        "model.fit(x_train, y_train, epochs=15, verbose=2)"
      ]
    },
    {
      "cell_type": "code",
      "execution_count": 10,
      "id": "d1e873e6-956a-4471-a9b2-61e9421aab01",
      "metadata": {
        "colab": {
          "base_uri": "https://localhost:8080/"
        },
        "id": "d1e873e6-956a-4471-a9b2-61e9421aab01",
        "outputId": "b54ec21b-0cae-4a6c-df44-75dd1e590375"
      },
      "outputs": [
        {
          "output_type": "stream",
          "name": "stdout",
          "text": [
            "--Evaluate model--\n",
            "1875/1875 - 4s - loss: 0.5710 - accuracy: 0.8363 - 4s/epoch - 2ms/step\n",
            "313/313 - 1s - loss: 0.4732 - accuracy: 0.8815 - 683ms/epoch - 2ms/step\n",
            "Train / Test Accuracy: 83.6% / 88.2%\n"
          ]
        }
      ],
      "source": [
        "print(\"--Evaluate model--\")\n",
        "model_loss1, model_acc1 = model.evaluate(x_train,  y_train, verbose=2)\n",
        "model_loss2, model_acc2 = model.evaluate(x_test,  y_test, verbose=2)\n",
        "print(f\"Train / Test Accuracy: {model_acc1*100:.1f}% / {model_acc2*100:.1f}%\")"
      ]
    },
    {
      "cell_type": "code",
      "source": [
        "model.save('notMNIST.h5')"
      ],
      "metadata": {
        "id": "76aHY_GvCtrj"
      },
      "id": "76aHY_GvCtrj",
      "execution_count": 11,
      "outputs": []
    }
  ],
  "metadata": {
    "kernelspec": {
      "display_name": "Python 3 (ipykernel)",
      "language": "python",
      "name": "python3"
    },
    "language_info": {
      "codemirror_mode": {
        "name": "ipython",
        "version": 3
      },
      "file_extension": ".py",
      "mimetype": "text/x-python",
      "name": "python",
      "nbconvert_exporter": "python",
      "pygments_lexer": "ipython3",
      "version": "3.9.7"
    },
    "colab": {
      "provenance": []
    }
  },
  "nbformat": 4,
  "nbformat_minor": 5
}