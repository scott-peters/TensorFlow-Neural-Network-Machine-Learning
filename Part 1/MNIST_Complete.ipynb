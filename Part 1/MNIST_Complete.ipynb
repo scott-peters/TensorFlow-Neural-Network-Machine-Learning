{
  "cells": [
    {
      "cell_type": "markdown",
      "id": "d92862b6-bcf2-4ab6-bc47-eaa07c2a015f",
      "metadata": {
        "id": "d92862b6-bcf2-4ab6-bc47-eaa07c2a015f"
      },
      "source": [
        "#Original Author: Jonathan Hudson\n",
        "#CPSC 501 F22"
      ]
    },
    {
      "cell_type": "code",
      "execution_count": null,
      "id": "38265ac1-5c33-4324-aedc-155483f53ab8",
      "metadata": {
        "id": "38265ac1-5c33-4324-aedc-155483f53ab8"
      },
      "outputs": [],
      "source": [
        "import tensorflow as tf\n",
        "\n",
        "tf.random.set_seed(1234)\n",
        "\n",
        "print(\"--Get data--\")\n",
        "mnist = tf.keras.datasets.mnist\n",
        "(x_train, y_train), (x_test, y_test) = mnist.load_data()\n",
        "\n",
        "print(\"--Process data--\")\n",
        "x_train, x_test = x_train / 255.0, x_test / 255.0"
      ]
    },
    {
      "cell_type": "code",
      "execution_count": 4,
      "id": "b118e511-7d40-4d34-96e0-e403a020d356",
      "metadata": {
        "colab": {
          "base_uri": "https://localhost:8080/"
        },
        "id": "b118e511-7d40-4d34-96e0-e403a020d356",
        "outputId": "52ef8be6-eb0b-431a-89c9-7255b804c320"
      },
      "outputs": [
        {
          "name": "stdout",
          "output_type": "stream",
          "text": [
            "--Make model--\n",
            "--Fit model--\n",
            "Epoch 1/15\n",
            "1875/1875 - 4s - loss: 0.1898 - accuracy: 0.9425 - 4s/epoch - 2ms/step\n",
            "Epoch 2/15\n",
            "1875/1875 - 4s - loss: 0.0815 - accuracy: 0.9745 - 4s/epoch - 2ms/step\n",
            "Epoch 3/15\n",
            "1875/1875 - 4s - loss: 0.0562 - accuracy: 0.9821 - 4s/epoch - 2ms/step\n",
            "Epoch 4/15\n",
            "1875/1875 - 3s - loss: 0.0399 - accuracy: 0.9871 - 3s/epoch - 2ms/step\n",
            "Epoch 5/15\n",
            "1875/1875 - 3s - loss: 0.0291 - accuracy: 0.9905 - 3s/epoch - 2ms/step\n",
            "Epoch 6/15\n",
            "1875/1875 - 4s - loss: 0.0217 - accuracy: 0.9931 - 4s/epoch - 2ms/step\n",
            "Epoch 7/15\n",
            "1875/1875 - 4s - loss: 0.0162 - accuracy: 0.9948 - 4s/epoch - 2ms/step\n",
            "Epoch 8/15\n",
            "1875/1875 - 4s - loss: 0.0120 - accuracy: 0.9958 - 4s/epoch - 2ms/step\n",
            "Epoch 9/15\n",
            "1875/1875 - 4s - loss: 0.0104 - accuracy: 0.9966 - 4s/epoch - 2ms/step\n",
            "Epoch 10/15\n",
            "1875/1875 - 3s - loss: 0.0091 - accuracy: 0.9969 - 3s/epoch - 2ms/step\n",
            "Epoch 11/15\n",
            "1875/1875 - 5s - loss: 0.0063 - accuracy: 0.9979 - 5s/epoch - 3ms/step\n",
            "Epoch 12/15\n",
            "1875/1875 - 4s - loss: 0.0057 - accuracy: 0.9981 - 4s/epoch - 2ms/step\n",
            "Epoch 13/15\n",
            "1875/1875 - 3s - loss: 0.0045 - accuracy: 0.9987 - 3s/epoch - 2ms/step\n",
            "Epoch 14/15\n",
            "1875/1875 - 3s - loss: 0.0034 - accuracy: 0.9988 - 3s/epoch - 2ms/step\n",
            "Epoch 15/15\n",
            "1875/1875 - 3s - loss: 0.0035 - accuracy: 0.9988 - 3s/epoch - 2ms/step\n",
            "--Evaluate model--\n",
            "1875/1875 - 2s - loss: 0.0024 - accuracy: 0.9992 - 2s/epoch - 1ms/step\n",
            "313/313 - 0s - loss: 0.1084 - accuracy: 0.9818 - 475ms/epoch - 2ms/step\n",
            "Train / Test Accuracy: 99.9% / 98.2%\n"
          ]
        }
      ],
      "source": [
        "print(\"--Make model--\")\n",
        "model = tf.keras.models.Sequential([\n",
        "  tf.keras.layers.Flatten(input_shape=(28, 28)),\n",
        "  tf.keras.layers.Dense(300, activation='relu'),\n",
        "  tf.keras.layers.Dense(10, activation='softmax')\n",
        "])\n",
        "\n",
        "initial_learning_rate = 1e-2\n",
        "lr_schedule = tf.keras.optimizers.schedules.ExponentialDecay(\n",
        "  initial_learning_rate, decay_steps=100000, decay_rate=0.9, staircase=True)\n",
        "\n",
        "optimizer = tf.keras.optimizers.Adamax(learning_rate=lr_schedule)\n",
        "model.compile(optimizer=optimizer, loss='sparse_categorical_crossentropy', metrics=['accuracy'])\n",
        "\n",
        "print(\"--Fit model--\")\n",
        "model.fit(x_train, y_train, epochs=15, verbose=2)\n",
        "\n",
        "print(\"--Evaluate model--\")\n",
        "model_loss1, model_acc1 = model.evaluate(x_train,  y_train, verbose=2)\n",
        "model_loss2, model_acc2 = model.evaluate(x_test,  y_test, verbose=2)\n",
        "print(f\"Train / Test Accuracy: {model_acc1*100:.1f}% / {model_acc2*100:.1f}%\")"
      ]
    },
    {
      "cell_type": "code",
      "execution_count": 5,
      "id": "19WWjsykoDal",
      "metadata": {
        "id": "19WWjsykoDal"
      },
      "outputs": [],
      "source": [
        "model.save('MNIST.h5')"
      ]
    }
  ],
  "metadata": {
    "colab": {
      "collapsed_sections": [],
      "provenance": []
    },
    "kernelspec": {
      "display_name": "Python 3 (ipykernel)",
      "language": "python",
      "name": "python3"
    },
    "language_info": {
      "codemirror_mode": {
        "name": "ipython",
        "version": 3
      },
      "file_extension": ".py",
      "mimetype": "text/x-python",
      "name": "python",
      "nbconvert_exporter": "python",
      "pygments_lexer": "ipython3",
      "version": "3.9.7"
    }
  },
  "nbformat": 4,
  "nbformat_minor": 5
}
